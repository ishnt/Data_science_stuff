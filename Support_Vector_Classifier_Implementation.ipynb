{
  "nbformat": 4,
  "nbformat_minor": 0,
  "metadata": {
    "colab": {
      "provenance": [],
      "authorship_tag": "ABX9TyNk64MOC3i0+T2Ghz2APv9z",
      "include_colab_link": true
    },
    "kernelspec": {
      "name": "python3",
      "display_name": "Python 3"
    },
    "language_info": {
      "name": "python"
    }
  },
  "cells": [
    {
      "cell_type": "markdown",
      "metadata": {
        "id": "view-in-github",
        "colab_type": "text"
      },
      "source": [
        "<a href=\"https://colab.research.google.com/github/ishnt/Data_science_stuff/blob/main/Support_Vector_Classifier_Implementation.ipynb\" target=\"_parent\"><img src=\"https://colab.research.google.com/assets/colab-badge.svg\" alt=\"Open In Colab\"/></a>"
      ]
    },
    {
      "cell_type": "code",
      "execution_count": null,
      "metadata": {
        "id": "nppnFlZXQ52v"
      },
      "outputs": [],
      "source": [
        "import pandas as pd\n",
        "import numpy as np\n",
        "import seaborn as sns\n",
        "import matplotlib.pyplot as plt\n",
        "import seaborn as sns"
      ]
    },
    {
      "cell_type": "code",
      "source": [
        "## Lets create synthetic data points\n",
        "from sklearn.datasets import make_classification"
      ],
      "metadata": {
        "id": "8dnk-HqbRcM7"
      },
      "execution_count": null,
      "outputs": []
    },
    {
      "cell_type": "code",
      "source": [
        "x,y=make_classification(n_samples=1000,n_features=2,n_classes=2,\n",
        "                        n_clusters_per_class=2,n_redundant=0)"
      ],
      "metadata": {
        "id": "Qw2UXZgERdyZ"
      },
      "execution_count": null,
      "outputs": []
    },
    {
      "cell_type": "code",
      "source": [
        "x"
      ],
      "metadata": {
        "colab": {
          "base_uri": "https://localhost:8080/"
        },
        "id": "ppxmmcCWRfn7",
        "outputId": "7dfe823d-5598-4de3-d944-669af69cadcb"
      },
      "execution_count": null,
      "outputs": [
        {
          "output_type": "execute_result",
          "data": {
            "text/plain": [
              "array([[ 0.8466266 , -1.33717932],\n",
              "       [ 0.26770577, -0.9384214 ],\n",
              "       [-0.44442411,  1.17357737],\n",
              "       ...,\n",
              "       [-0.92526052, -0.82152234],\n",
              "       [ 0.07392147,  2.05743689],\n",
              "       [-1.63922221,  1.17758822]])"
            ]
          },
          "metadata": {},
          "execution_count": 5
        }
      ]
    },
    {
      "cell_type": "code",
      "source": [
        "y"
      ],
      "metadata": {
        "colab": {
          "base_uri": "https://localhost:8080/"
        },
        "id": "jBBsThELTeOQ",
        "outputId": "03b9d3a8-ff7f-4283-cac2-c44a3d315472"
      },
      "execution_count": null,
      "outputs": [
        {
          "output_type": "execute_result",
          "data": {
            "text/plain": [
              "array([0, 0, 1, 0, 0, 1, 0, 0, 1, 1, 0, 1, 0, 0, 1, 0, 1, 0, 0, 0, 1, 1,\n",
              "       0, 0, 0, 0, 0, 1, 0, 1, 0, 1, 0, 0, 0, 1, 0, 1, 1, 1, 1, 0, 0, 0,\n",
              "       0, 1, 0, 0, 0, 1, 1, 0, 0, 1, 0, 0, 1, 0, 0, 0, 1, 0, 0, 1, 0, 0,\n",
              "       0, 1, 1, 1, 0, 1, 1, 1, 0, 0, 1, 1, 1, 0, 1, 1, 0, 0, 0, 0, 1, 0,\n",
              "       1, 1, 1, 0, 1, 0, 1, 1, 1, 1, 1, 0, 0, 0, 0, 0, 0, 1, 1, 1, 1, 1,\n",
              "       0, 0, 1, 1, 1, 1, 1, 0, 0, 1, 1, 0, 1, 0, 1, 0, 1, 1, 0, 0, 0, 0,\n",
              "       1, 1, 0, 0, 0, 0, 1, 0, 1, 0, 1, 1, 1, 0, 0, 0, 0, 1, 1, 1, 1, 1,\n",
              "       0, 0, 0, 1, 1, 1, 0, 1, 0, 1, 0, 1, 1, 0, 1, 1, 0, 0, 1, 1, 0, 1,\n",
              "       1, 0, 0, 0, 1, 0, 1, 1, 0, 1, 1, 0, 1, 0, 1, 1, 1, 0, 1, 0, 1, 1,\n",
              "       1, 0, 1, 1, 1, 1, 1, 0, 0, 0, 0, 0, 0, 1, 0, 1, 0, 0, 1, 1, 1, 0,\n",
              "       1, 1, 0, 0, 0, 1, 1, 1, 1, 0, 0, 1, 1, 0, 1, 1, 1, 0, 1, 0, 0, 0,\n",
              "       1, 0, 1, 1, 1, 0, 1, 1, 0, 0, 1, 1, 0, 1, 0, 1, 0, 0, 0, 0, 0, 0,\n",
              "       0, 1, 0, 1, 1, 1, 1, 1, 0, 0, 0, 0, 0, 1, 1, 1, 1, 0, 1, 1, 1, 0,\n",
              "       0, 0, 0, 0, 1, 0, 1, 0, 0, 1, 0, 0, 0, 1, 0, 0, 1, 1, 1, 1, 0, 1,\n",
              "       0, 1, 1, 1, 0, 0, 1, 0, 0, 1, 0, 0, 1, 1, 1, 1, 1, 1, 1, 1, 1, 0,\n",
              "       1, 0, 0, 1, 1, 0, 0, 0, 1, 1, 0, 0, 1, 0, 0, 0, 0, 1, 1, 0, 0, 1,\n",
              "       1, 0, 1, 1, 1, 1, 0, 1, 0, 0, 0, 1, 0, 0, 0, 1, 0, 0, 0, 1, 1, 0,\n",
              "       1, 1, 1, 0, 0, 0, 1, 1, 0, 0, 1, 1, 1, 1, 1, 0, 1, 0, 1, 1, 0, 1,\n",
              "       0, 1, 1, 1, 1, 1, 0, 0, 1, 0, 1, 1, 0, 0, 0, 1, 0, 0, 0, 1, 0, 0,\n",
              "       1, 1, 1, 0, 0, 1, 0, 0, 1, 1, 1, 0, 0, 1, 1, 0, 0, 1, 1, 0, 1, 1,\n",
              "       0, 0, 1, 0, 0, 1, 1, 0, 1, 0, 0, 0, 1, 1, 1, 1, 0, 1, 1, 0, 0, 1,\n",
              "       1, 0, 0, 0, 0, 0, 1, 1, 0, 0, 1, 1, 1, 0, 0, 1, 0, 1, 0, 0, 0, 1,\n",
              "       1, 0, 1, 0, 0, 1, 0, 0, 0, 0, 0, 1, 0, 0, 0, 1, 1, 1, 0, 0, 0, 0,\n",
              "       0, 0, 0, 0, 0, 1, 1, 0, 1, 0, 0, 1, 1, 1, 1, 1, 1, 1, 1, 0, 1, 0,\n",
              "       0, 0, 0, 0, 0, 0, 1, 0, 1, 0, 1, 1, 0, 1, 0, 1, 0, 0, 0, 1, 0, 0,\n",
              "       0, 0, 0, 1, 0, 1, 1, 1, 1, 1, 0, 1, 0, 1, 0, 1, 1, 0, 1, 1, 0, 0,\n",
              "       0, 1, 0, 1, 1, 0, 0, 0, 0, 1, 1, 0, 0, 0, 0, 0, 0, 1, 0, 1, 0, 0,\n",
              "       1, 0, 1, 1, 0, 0, 0, 1, 0, 0, 1, 0, 1, 1, 1, 1, 1, 0, 1, 0, 1, 1,\n",
              "       0, 0, 1, 1, 1, 1, 0, 0, 0, 1, 1, 1, 1, 1, 0, 0, 0, 1, 1, 1, 0, 0,\n",
              "       0, 1, 0, 1, 1, 1, 0, 1, 1, 0, 1, 1, 0, 0, 0, 1, 1, 1, 1, 0, 0, 1,\n",
              "       1, 0, 0, 1, 1, 1, 1, 1, 0, 1, 1, 1, 0, 0, 1, 1, 0, 1, 0, 0, 0, 0,\n",
              "       0, 0, 1, 0, 1, 0, 1, 0, 1, 1, 0, 1, 0, 1, 0, 1, 0, 1, 1, 1, 0, 1,\n",
              "       0, 1, 1, 1, 0, 0, 1, 1, 0, 1, 1, 1, 0, 0, 1, 1, 0, 0, 0, 0, 0, 0,\n",
              "       1, 0, 1, 1, 1, 1, 1, 0, 1, 0, 0, 1, 0, 0, 0, 1, 0, 0, 0, 1, 0, 1,\n",
              "       0, 0, 1, 1, 0, 1, 0, 1, 1, 1, 1, 1, 0, 0, 1, 1, 0, 1, 0, 1, 0, 0,\n",
              "       0, 1, 0, 1, 0, 0, 0, 1, 0, 0, 0, 1, 0, 0, 1, 0, 1, 1, 1, 0, 0, 0,\n",
              "       1, 0, 0, 0, 1, 1, 0, 1, 1, 1, 1, 1, 1, 1, 1, 0, 1, 0, 1, 0, 0, 0,\n",
              "       1, 0, 0, 1, 1, 0, 0, 0, 0, 0, 1, 1, 0, 1, 1, 0, 1, 0, 1, 0, 0, 1,\n",
              "       0, 1, 0, 0, 1, 0, 1, 0, 1, 0, 0, 1, 1, 0, 1, 0, 1, 1, 1, 1, 1, 1,\n",
              "       0, 1, 0, 0, 0, 0, 1, 0, 0, 0, 0, 0, 0, 0, 1, 0, 1, 1, 0, 0, 0, 1,\n",
              "       0, 0, 1, 1, 0, 0, 1, 0, 1, 1, 1, 1, 0, 1, 0, 0, 1, 0, 1, 1, 0, 1,\n",
              "       1, 1, 0, 1, 0, 0, 1, 1, 0, 0, 0, 0, 1, 1, 1, 1, 1, 0, 1, 1, 0, 1,\n",
              "       0, 0, 1, 0, 0, 0, 1, 0, 0, 0, 1, 1, 1, 1, 0, 1, 1, 1, 1, 1, 1, 1,\n",
              "       0, 0, 0, 1, 0, 0, 1, 0, 0, 1, 0, 0, 0, 0, 0, 0, 1, 1, 1, 0, 0, 0,\n",
              "       1, 0, 1, 1, 0, 0, 0, 0, 0, 1, 1, 1, 0, 0, 1, 1, 1, 0, 1, 1, 1, 1,\n",
              "       0, 1, 1, 1, 1, 1, 1, 0, 1, 1])"
            ]
          },
          "metadata": {},
          "execution_count": 6
        }
      ]
    },
    {
      "cell_type": "code",
      "source": [
        "sns.scatterplot(x=pd.DataFrame(x)[0],y=pd.DataFrame(x)[1],hue=y)"
      ],
      "metadata": {
        "colab": {
          "base_uri": "https://localhost:8080/",
          "height": 466
        },
        "id": "kWOMqzgrTgxC",
        "outputId": "8d9b9eba-9675-4d0b-c8e2-d83390221a0f"
      },
      "execution_count": null,
      "outputs": [
        {
          "output_type": "execute_result",
          "data": {
            "text/plain": [
              "<Axes: xlabel='0', ylabel='1'>"
            ]
          },
          "metadata": {},
          "execution_count": 12
        },
        {
          "output_type": "display_data",
          "data": {
            "text/plain": [
              "<Figure size 640x480 with 1 Axes>"
            ],
            "image/png": "[encoded data removed]"
          },
          "metadata": {}
        }
      ]
    },
    {
      "cell_type": "code",
      "source": [
        "from sklearn.model_selection import train_test_split\n",
        "x_train,x_test,y_train,y_test=train_test_split(x,y,test_size=0.25,random_state=10)"
      ],
      "metadata": {
        "id": "FmLTXxOxTqTh"
      },
      "execution_count": null,
      "outputs": []
    },
    {
      "cell_type": "code",
      "source": [
        "x_train"
      ],
      "metadata": {
        "colab": {
          "base_uri": "https://localhost:8080/"
        },
        "id": "OvXqOavBUTV_",
        "outputId": "8d42bf00-80da-4e31-ce24-018d1035ac3b"
      },
      "execution_count": null,
      "outputs": [
        {
          "output_type": "execute_result",
          "data": {
            "text/plain": [
              "array([[ 0.73178472, -0.23041496],\n",
              "       [-0.99171221,  1.87214237],\n",
              "       [ 0.54673905, -1.138643  ],\n",
              "       ...,\n",
              "       [-3.73318609,  1.2999376 ],\n",
              "       [ 0.10605187, -0.98761161],\n",
              "       [ 0.11926188,  1.14551452]])"
            ]
          },
          "metadata": {},
          "execution_count": 14
        }
      ]
    },
    {
      "cell_type": "code",
      "source": [
        "x_test"
      ],
      "metadata": {
        "colab": {
          "base_uri": "https://localhost:8080/"
        },
        "id": "Ni-5zG6nUWUX",
        "outputId": "34a2e8be-6c00-469c-a70a-e35ef5d86cb7"
      },
      "execution_count": null,
      "outputs": [
        {
          "output_type": "execute_result",
          "data": {
            "text/plain": [
              "array([[-0.97954629, -0.78885839],\n",
              "       [ 1.60758272, -0.44814378],\n",
              "       [-1.05075665, -0.78998318],\n",
              "       [ 1.75055145,  2.12524428],\n",
              "       [ 0.89644886,  1.99971426],\n",
              "       [-0.79369499,  0.78109472],\n",
              "       [-0.10062081, -2.05063736],\n",
              "       [ 1.99543444, -0.46409736],\n",
              "       [ 1.55744401,  1.14700064],\n",
              "       [-0.28813717,  1.11856   ],\n",
              "       [-0.96759284, -0.32036118],\n",
              "       [ 0.91057595,  0.96976887],\n",
              "       [ 0.38884035,  0.48934031],\n",
              "       [ 1.10266059,  1.9156096 ],\n",
              "       [ 0.63421117, -1.14831234],\n",
              "       [-0.92915272, -0.602164  ],\n",
              "       [ 1.41276301, -0.65538945],\n",
              "       [-2.14371105,  1.61362976],\n",
              "       [-0.62394833, -0.24553287],\n",
              "       [-0.79919881,  0.89434078],\n",
              "       [-1.33159403,  1.10599927],\n",
              "       [-1.84056662,  1.07169514],\n",
              "       [ 1.14276711,  0.19249612],\n",
              "       [ 1.64582515,  1.18418896],\n",
              "       [-1.05068225, -0.53012518],\n",
              "       [-0.70744841,  0.964808  ],\n",
              "       [-1.28139521, -1.20403428],\n",
              "       [ 1.04590952, -1.12411437],\n",
              "       [ 0.61769175, -1.59364645],\n",
              "       [-1.26195197, -1.97939493],\n",
              "       [ 0.23366328,  1.22828448],\n",
              "       [-0.70219756,  0.03620815],\n",
              "       [ 1.61087249, -0.33906367],\n",
              "       [-0.27525339,  1.27754597],\n",
              "       [ 1.05740145,  1.28881707],\n",
              "       [-0.86155771, -0.75851981],\n",
              "       [-0.67705269,  1.33163818],\n",
              "       [ 0.80710191,  1.04657783],\n",
              "       [-1.01176178, -1.23841445],\n",
              "       [-2.04540182,  0.30833375],\n",
              "       [ 2.13776872, -0.1955306 ],\n",
              "       [-1.03924584, -0.84344962],\n",
              "       [ 0.72867077,  0.24113596],\n",
              "       [-1.271012  , -1.16225962],\n",
              "       [-1.77916779,  1.40595741],\n",
              "       [ 0.70544627,  0.18134383],\n",
              "       [-0.73707144,  0.22850203],\n",
              "       [ 1.5757974 ,  0.47254927],\n",
              "       [-0.06084695,  1.9020776 ],\n",
              "       [-0.94164757, -1.00051813],\n",
              "       [-1.64975849,  1.32321926],\n",
              "       [-0.89224263, -0.80535588],\n",
              "       [-1.27269481,  1.37629452],\n",
              "       [ 1.25886039,  2.34538737],\n",
              "       [-0.91860375, -0.98161532],\n",
              "       [ 0.32708057, -1.16012063],\n",
              "       [-0.75125336, -0.40299072],\n",
              "       [ 0.52849679, -0.99466755],\n",
              "       [ 0.49388566,  0.68175214],\n",
              "       [-1.25116507, -1.86600102],\n",
              "       [ 2.26785589, -0.1023316 ],\n",
              "       [-1.82374325,  1.29297922],\n",
              "       [-1.50420994,  1.77074124],\n",
              "       [ 0.8250899 ,  0.89310393],\n",
              "       [ 0.99674797,  0.56190416],\n",
              "       [-0.7510461 ,  0.86249487],\n",
              "       [-1.17079536, -1.04967019],\n",
              "       [-0.60622232,  0.70857973],\n",
              "       [ 0.24830262,  1.72826711],\n",
              "       [-2.51758274, -0.0128165 ],\n",
              "       [ 2.35716159,  0.91995442],\n",
              "       [-2.33177379,  0.91697304],\n",
              "       [ 1.09766127, -0.10698233],\n",
              "       [ 0.83744294, -1.41278671],\n",
              "       [-0.05430661,  0.57896938],\n",
              "       [-1.77820129,  1.10112812],\n",
              "       [ 1.55955191,  0.3634325 ],\n",
              "       [-1.06505697, -1.34512027],\n",
              "       [-2.05461464,  0.73341017],\n",
              "       [-0.85774188, -1.02899348],\n",
              "       [ 0.57719549,  0.81872194],\n",
              "       [-2.787541  ,  1.51523027],\n",
              "       [-1.59060479, -2.21532396],\n",
              "       [ 0.56791357,  1.43340668],\n",
              "       [-1.53980044,  0.87126936],\n",
              "       [ 0.91547026,  0.38889939],\n",
              "       [ 0.93122289,  0.53871503],\n",
              "       [ 0.9379573 ,  1.62630359],\n",
              "       [-0.71278075,  0.31605803],\n",
              "       [-0.0743007 ,  1.37790442],\n",
              "       [-1.38330728, -1.55198259],\n",
              "       [ 1.8195834 ,  1.19569196],\n",
              "       [-1.44744856,  0.94724936],\n",
              "       [-1.12449905, -1.33065947],\n",
              "       [ 1.55744691,  0.94307016],\n",
              "       [-1.03086279, -0.75807038],\n",
              "       [ 0.26770577, -0.9384214 ],\n",
              "       [-0.23236354,  0.84561573],\n",
              "       [ 0.73345249,  0.85150075],\n",
              "       [-0.31582261,  1.45522698],\n",
              "       [-1.3808933 ,  1.14474112],\n",
              "       [ 1.0186805 , -1.23698724],\n",
              "       [ 1.849403  , -0.59652211],\n",
              "       [ 0.52042831, -0.01655221],\n",
              "       [-3.51340073,  1.31190145],\n",
              "       [-1.79995097,  0.8453776 ],\n",
              "       [ 1.526311  ,  1.30668925],\n",
              "       [-0.79683666,  2.03820304],\n",
              "       [ 3.21315932, -0.93734079],\n",
              "       [-1.9489531 ,  1.45445485],\n",
              "       [-1.10903871, -1.72693223],\n",
              "       [-0.86426746,  1.33190892],\n",
              "       [-1.26237882, -1.50739241],\n",
              "       [ 1.58842852, -0.0415547 ],\n",
              "       [-0.67155658,  1.0536539 ],\n",
              "       [ 1.13274257,  0.95967506],\n",
              "       [-1.48317803,  0.08768091],\n",
              "       [-2.32941913,  0.14017513],\n",
              "       [-1.19967488, -1.54955794],\n",
              "       [-0.86690142, -0.1542301 ],\n",
              "       [-2.43035702,  1.35670397],\n",
              "       [-0.9874808 , -0.82814137],\n",
              "       [-0.7627391 , -0.31751813],\n",
              "       [ 0.83683801, -0.70877761],\n",
              "       [ 0.92257541,  0.57149669],\n",
              "       [-3.2074231 ,  0.73764941],\n",
              "       [ 0.756344  ,  1.09598729],\n",
              "       [-0.92476568, -1.16485005],\n",
              "       [-0.02300569,  1.93556385],\n",
              "       [-1.46661512, -2.15776624],\n",
              "       [-0.83350013, -0.7665998 ],\n",
              "       [ 0.96560197, -1.02559967],\n",
              "       [-0.94134682, -0.73419716],\n",
              "       [ 1.36923113, -1.75042451],\n",
              "       [-0.9805896 , -1.18590742],\n",
              "       [-0.71593407,  1.94087874],\n",
              "       [ 1.66732632,  1.88952668],\n",
              "       [-1.19077597,  0.96673936],\n",
              "       [-2.02900529,  0.06033266],\n",
              "       [-2.35839381,  1.39406678],\n",
              "       [ 1.91148394,  1.37944419],\n",
              "       [-1.01805896, -1.32274875],\n",
              "       [-0.77005376,  0.01193029],\n",
              "       [ 0.36594879,  0.93555583],\n",
              "       [-0.88400852, -1.2705251 ],\n",
              "       [ 0.86108342,  1.52668041],\n",
              "       [ 0.80973334,  1.45038791],\n",
              "       [-0.92200803, -0.84527942],\n",
              "       [-2.20332813,  0.30419124],\n",
              "       [ 0.93409654,  1.67093665],\n",
              "       [ 2.08008229, -1.28617802],\n",
              "       [-0.25930536, -1.27373487],\n",
              "       [-1.06213031, -1.3818387 ],\n",
              "       [ 1.14913923,  0.67547547],\n",
              "       [ 0.79000792,  0.96008445],\n",
              "       [ 2.05370288,  0.41670777],\n",
              "       [-0.55409556, -0.71339882],\n",
              "       [ 0.17621841,  1.29670793],\n",
              "       [-1.15457256, -1.01804102],\n",
              "       [ 0.8764849 , -0.18766681],\n",
              "       [-0.75901776, -0.37422148],\n",
              "       [ 0.43343275,  0.86580453],\n",
              "       [-1.07822337,  1.15154436],\n",
              "       [-1.03931055, -1.02442235],\n",
              "       [-0.87104672, -0.87057892],\n",
              "       [ 0.25773841, -1.62533542],\n",
              "       [-0.82959082, -1.16677537],\n",
              "       [ 1.64901763, -2.03729647],\n",
              "       [ 1.17211318, -0.82125282],\n",
              "       [ 0.6868966 ,  0.5655104 ],\n",
              "       [-0.61051819, -0.26990271],\n",
              "       [-0.00443205, -0.84780606],\n",
              "       [-1.20290287, -1.01677921],\n",
              "       [ 2.54046305, -0.60086641],\n",
              "       [ 0.79269258,  0.7934099 ],\n",
              "       [ 0.88526361,  1.00249724],\n",
              "       [ 0.57261781, -0.96628826],\n",
              "       [-1.22867065,  1.47912758],\n",
              "       [ 2.14972345, -0.99083068],\n",
              "       [ 1.23881852, -0.17622053],\n",
              "       [ 0.60809769,  1.05890128],\n",
              "       [-3.10969857,  1.20433155],\n",
              "       [-0.92115074, -0.97425273],\n",
              "       [ 0.96480281,  0.79792215],\n",
              "       [ 0.43604457, -1.44285547],\n",
              "       [-1.14107709, -1.40635364],\n",
              "       [ 1.24838456,  1.32703777],\n",
              "       [-0.99012654, -1.19437126],\n",
              "       [-0.48451331, -2.39771693],\n",
              "       [ 0.82413674, -0.89803891],\n",
              "       [ 1.07496214, -1.35405223],\n",
              "       [ 0.42015643,  0.68345975],\n",
              "       [ 0.81521238, -1.14299972],\n",
              "       [ 0.5493837 ,  0.40813203],\n",
              "       [ 1.2702724 , -0.67980444],\n",
              "       [-0.92175263, -0.52886727],\n",
              "       [-1.78559179,  1.00864414],\n",
              "       [ 1.69734234,  0.43212277],\n",
              "       [ 0.44024391, -1.13365182],\n",
              "       [ 1.61353444,  1.0138129 ],\n",
              "       [ 0.4804563 ,  0.98450616],\n",
              "       [-1.21841661,  0.23485878],\n",
              "       [ 2.34457797,  0.85614047],\n",
              "       [-1.0607277 , -1.24407399],\n",
              "       [-1.251685  ,  1.45719198],\n",
              "       [ 0.7671318 ,  1.62045832],\n",
              "       [-1.01996624, -1.06672381],\n",
              "       [ 0.08862183, -0.627918  ],\n",
              "       [-1.28377692, -1.37121691],\n",
              "       [-1.05587196, -0.78447022],\n",
              "       [ 0.60112869,  0.26799116],\n",
              "       [ 1.12037231, -1.00308629],\n",
              "       [-2.74707869, -0.36292766],\n",
              "       [-0.09035394,  2.09297169],\n",
              "       [ 0.86080825, -0.34866552],\n",
              "       [ 1.20532956, -0.12667969],\n",
              "       [-2.41414347,  0.3749042 ],\n",
              "       [-2.14258499,  1.13590884],\n",
              "       [ 1.59632943,  1.04038038],\n",
              "       [-1.00484246, -0.87072706],\n",
              "       [ 0.40695713, -1.26612456],\n",
              "       [ 1.328521  ,  0.52384937],\n",
              "       [ 0.02156539,  1.20082146],\n",
              "       [-0.9619514 , -1.38433149],\n",
              "       [-0.86027719, -0.29778373],\n",
              "       [-1.09174131, -0.80926402],\n",
              "       [ 2.65635759,  0.09246088],\n",
              "       [-0.42723679,  0.83319926],\n",
              "       [-1.16014337, -1.60669432],\n",
              "       [ 0.66751851,  1.31456945],\n",
              "       [ 1.54757607,  1.21091522],\n",
              "       [-1.15150575, -1.70624953],\n",
              "       [ 1.24071849,  0.7712776 ],\n",
              "       [-1.85758103,  1.62613376],\n",
              "       [ 0.89756489,  1.47318674],\n",
              "       [ 0.70978712, -0.21443818],\n",
              "       [-1.59214591,  1.31804138],\n",
              "       [ 1.05094218,  3.08947145],\n",
              "       [ 0.67364866,  0.8741405 ],\n",
              "       [ 0.23229021,  1.41013209],\n",
              "       [-0.82338168, -0.13842121],\n",
              "       [ 0.56200283,  0.83585469],\n",
              "       [ 0.09515295,  1.10741403],\n",
              "       [-0.96168021, -1.28539966],\n",
              "       [ 0.49131053, -1.84969015],\n",
              "       [ 1.44467442, -0.16157868],\n",
              "       [-0.43569812,  1.45901958],\n",
              "       [-0.45357562,  0.02743052],\n",
              "       [ 0.35863164,  0.91429304],\n",
              "       [ 0.97994406,  1.51567659]])"
            ]
          },
          "metadata": {},
          "execution_count": 15
        }
      ]
    },
    {
      "cell_type": "code",
      "source": [
        "from sklearn.svm import SVC\n",
        "svm=SVC(kernel='linear')"
      ],
      "metadata": {
        "id": "Fat7pjBDUX4n"
      },
      "execution_count": null,
      "outputs": []
    },
    {
      "cell_type": "code",
      "source": [
        "svm.fit(x_train,y_train)"
      ],
      "metadata": {
        "colab": {
          "base_uri": "https://localhost:8080/",
          "height": 74
        },
        "id": "s1ptfjV-UyVL",
        "outputId": "f7a8a1a9-56e2-4759-99c9-a91b25a240df"
      },
      "execution_count": null,
      "outputs": [
        {
          "output_type": "execute_result",
          "data": {
            "text/plain": [
              "SVC(kernel='linear')"
            ],
            "text/html": [
              "<style>#sk-container-id-1 {color: black;background-color: white;}#sk-container-id-1 pre{padding: 0;}#sk-container-id-1 div.sk-toggleable {background-color: white;}#sk-container-id-1 label.sk-toggleable__label {cursor: pointer;display: block;width: 100%;margin-bottom: 0;padding: 0.3em;box-sizing: border-box;text-align: center;}#sk-container-id-1 label.sk-toggleable__label-arrow:before {content: \"▸\";float: left;margin-right: 0.25em;color: #696969;}#sk-container-id-1 label.sk-toggleable__label-arrow:hover:before {color: black;}#sk-container-id-1 div.sk-estimator:hover label.sk-toggleable__label-arrow:before {color: black;}#sk-container-id-1 div.sk-toggleable__content {max-height: 0;max-width: 0;overflow: hidden;text-align: left;background-color: #f0f8ff;}#sk-container-id-1 div.sk-toggleable__content pre {margin: 0.2em;color: black;border-radius: 0.25em;background-color: #f0f8ff;}#sk-container-id-1 input.sk-toggleable__control:checked~div.sk-toggleable__content {max-height: 200px;max-width: 100%;overflow: auto;}#sk-container-id-1 input.sk-toggleable__control:checked~label.sk-toggleable__label-arrow:before {content: \"▾\";}#sk-container-id-1 div.sk-estimator input.sk-toggleable__control:checked~label.sk-toggleable__label {background-color: #d4ebff;}#sk-container-id-1 div.sk-label input.sk-toggleable__control:checked~label.sk-toggleable__label {background-color: #d4ebff;}#sk-container-id-1 input.sk-hidden--visually {border: 0;clip: rect(1px 1px 1px 1px);clip: rect(1px, 1px, 1px, 1px);height: 1px;margin: -1px;overflow: hidden;padding: 0;position: absolute;width: 1px;}#sk-container-id-1 div.sk-estimator {font-family: monospace;background-color: #f0f8ff;border: 1px dotted black;border-radius: 0.25em;box-sizing: border-box;margin-bottom: 0.5em;}#sk-container-id-1 div.sk-estimator:hover {background-color: #d4ebff;}#sk-container-id-1 div.sk-parallel-item::after {content: \"\";width: 100%;border-bottom: 1px solid gray;flex-grow: 1;}#sk-container-id-1 div.sk-label:hover label.sk-toggleable__label {background-color: #d4ebff;}#sk-container-id-1 div.sk-serial::before {content: \"\";position: absolute;border-left: 1px solid gray;box-sizing: border-box;top: 0;bottom: 0;left: 50%;z-index: 0;}#sk-container-id-1 div.sk-serial {display: flex;flex-direction: column;align-items: center;background-color: white;padding-right: 0.2em;padding-left: 0.2em;position: relative;}#sk-container-id-1 div.sk-item {position: relative;z-index: 1;}#sk-container-id-1 div.sk-parallel {display: flex;align-items: stretch;justify-content: center;background-color: white;position: relative;}#sk-container-id-1 div.sk-item::before, #sk-container-id-1 div.sk-parallel-item::before {content: \"\";position: absolute;border-left: 1px solid gray;box-sizing: border-box;top: 0;bottom: 0;left: 50%;z-index: -1;}#sk-container-id-1 div.sk-parallel-item {display: flex;flex-direction: column;z-index: 1;position: relative;background-color: white;}#sk-container-id-1 div.sk-parallel-item:first-child::after {align-self: flex-end;width: 50%;}#sk-container-id-1 div.sk-parallel-item:last-child::after {align-self: flex-start;width: 50%;}#sk-container-id-1 div.sk-parallel-item:only-child::after {width: 0;}#sk-container-id-1 div.sk-dashed-wrapped {border: 1px dashed gray;margin: 0 0.4em 0.5em 0.4em;box-sizing: border-box;padding-bottom: 0.4em;background-color: white;}#sk-container-id-1 div.sk-label label {font-family: monospace;font-weight: bold;display: inline-block;line-height: 1.2em;}#sk-container-id-1 div.sk-label-container {text-align: center;}#sk-container-id-1 div.sk-container {/* jupyter's `normalize.less` sets `[hidden] { display: none; }` but bootstrap.min.css set `[hidden] { display: none !important; }` so we also need the `!important` here to be able to override the default hidden behavior on the sphinx rendered scikit-learn.org. See: https://github.com/scikit-learn/scikit-learn/issues/21755 */display: inline-block !important;position: relative;}#sk-container-id-1 div.sk-text-repr-fallback {display: none;}</style><div id=\"sk-container-id-1\" class=\"sk-top-container\"><div class=\"sk-text-repr-fallback\"><pre>SVC(kernel=&#x27;linear&#x27;)</pre><b>In a Jupyter environment, please rerun this cell to show the HTML representation or trust the notebook. <br />On GitHub, the HTML representation is unable to render, please try loading this page with nbviewer.org.</b></div><div class=\"sk-container\" hidden><div class=\"sk-item\"><div class=\"sk-estimator sk-toggleable\"><input class=\"sk-toggleable__control sk-hidden--visually\" id=\"sk-estimator-id-1\" type=\"checkbox\" checked><label for=\"sk-estimator-id-1\" class=\"sk-toggleable__label sk-toggleable__label-arrow\">SVC</label><div class=\"sk-toggleable__content\"><pre>SVC(kernel=&#x27;linear&#x27;)</pre></div></div></div></div></div>"
            ]
          },
          "metadata": {},
          "execution_count": 18
        }
      ]
    },
    {
      "cell_type": "code",
      "source": [
        "y_pred=svm.predict(x_test)"
      ],
      "metadata": {
        "id": "DCvySHoyU49E"
      },
      "execution_count": null,
      "outputs": []
    },
    {
      "cell_type": "code",
      "source": [
        "from sklearn.metrics import classification_report,confusion_matrix,accuracy_score\n",
        "print(classification_report(y_test,y_pred))\n",
        "print(confusion_matrix(y_test,y_pred))\n",
        "print(accuracy_score(y_test,y_pred))"
      ],
      "metadata": {
        "colab": {
          "base_uri": "https://localhost:8080/"
        },
        "id": "IZpNKpz2VCYw",
        "outputId": "261e7917-2009-4081-a3fd-b3f294fb2ebd"
      },
      "execution_count": null,
      "outputs": [
        {
          "output_type": "stream",
          "name": "stdout",
          "text": [
            "              precision    recall  f1-score   support\n",
            "\n",
            "           0       0.92      0.95      0.94       110\n",
            "           1       0.96      0.94      0.95       140\n",
            "\n",
            "    accuracy                           0.94       250\n",
            "   macro avg       0.94      0.95      0.94       250\n",
            "weighted avg       0.94      0.94      0.94       250\n",
            "\n",
            "[[105   5]\n",
            " [  9 131]]\n",
            "0.944\n"
          ]
        }
      ]
    },
    {
      "cell_type": "code",
      "source": [
        "#hyperparameter tuning\n",
        "from sklearn.model_selection import GridSearchCV\n",
        "\n",
        "parameters= {'C': [0.1, 1, 10, 100, 1000],\n",
        "              'gamma': [1, 0.1, 0.01, 0.001, 0.0001],\n",
        "              'kernel':['linear']\n",
        "              }\n"
      ],
      "metadata": {
        "id": "tBDsw1JEVK90"
      },
      "execution_count": null,
      "outputs": []
    },
    {
      "cell_type": "code",
      "source": [
        "cfg=GridSearchCV(SVC(),param_grid=parameters,refit=True,cv=5,verbose=3)"
      ],
      "metadata": {
        "id": "JfoY0tmnWTGj"
      },
      "execution_count": null,
      "outputs": []
    },
    {
      "cell_type": "code",
      "source": [
        "cfg.fit(x_train,y_train)"
      ],
      "metadata": {
        "colab": {
          "base_uri": "https://localhost:8080/",
          "height": 1000
        },
        "id": "4EmQ7ONMWwwb",
        "outputId": "b8b316a1-2d3b-4cd0-d716-33995e17ad71"
      },
      "execution_count": null,
      "outputs": [
        {
          "output_type": "stream",
          "name": "stdout",
          "text": [
            "Fitting 5 folds for each of 25 candidates, totalling 125 fits\n",
            "[CV 1/5] END .....C=0.1, gamma=1, kernel=linear;, score=0.953 total time=   0.0s\n",
            "[CV 2/5] END .....C=0.1, gamma=1, kernel=linear;, score=0.953 total time=   0.0s\n",
            "[CV 3/5] END .....C=0.1, gamma=1, kernel=linear;, score=0.953 total time=   0.0s\n",
            "[CV 4/5] END .....C=0.1, gamma=1, kernel=linear;, score=0.940 total time=   0.0s\n",
            "[CV 5/5] END .....C=0.1, gamma=1, kernel=linear;, score=0.940 total time=   0.0s\n",
            "[CV 1/5] END ...C=0.1, gamma=0.1, kernel=linear;, score=0.953 total time=   0.0s\n",
            "[CV 2/5] END ...C=0.1, gamma=0.1, kernel=linear;, score=0.953 total time=   0.0s\n",
            "[CV 3/5] END ...C=0.1, gamma=0.1, kernel=linear;, score=0.953 total time=   0.0s\n",
            "[CV 4/5] END ...C=0.1, gamma=0.1, kernel=linear;, score=0.940 total time=   0.0s\n",
            "[CV 5/5] END ...C=0.1, gamma=0.1, kernel=linear;, score=0.940 total time=   0.0s\n",
            "[CV 1/5] END ..C=0.1, gamma=0.01, kernel=linear;, score=0.953 total time=   0.0s\n",
            "[CV 2/5] END ..C=0.1, gamma=0.01, kernel=linear;, score=0.953 total time=   0.0s\n",
            "[CV 3/5] END ..C=0.1, gamma=0.01, kernel=linear;, score=0.953 total time=   0.0s\n",
            "[CV 4/5] END ..C=0.1, gamma=0.01, kernel=linear;, score=0.940 total time=   0.0s\n",
            "[CV 5/5] END ..C=0.1, gamma=0.01, kernel=linear;, score=0.940 total time=   0.0s\n",
            "[CV 1/5] END .C=0.1, gamma=0.001, kernel=linear;, score=0.953 total time=   0.0s\n",
            "[CV 2/5] END .C=0.1, gamma=0.001, kernel=linear;, score=0.953 total time=   0.0s\n",
            "[CV 3/5] END .C=0.1, gamma=0.001, kernel=linear;, score=0.953 total time=   0.0s\n",
            "[CV 4/5] END .C=0.1, gamma=0.001, kernel=linear;, score=0.940 total time=   0.0s\n",
            "[CV 5/5] END .C=0.1, gamma=0.001, kernel=linear;, score=0.940 total time=   0.0s\n",
            "[CV 1/5] END C=0.1, gamma=0.0001, kernel=linear;, score=0.953 total time=   0.0s\n",
            "[CV 2/5] END C=0.1, gamma=0.0001, kernel=linear;, score=0.953 total time=   0.0s\n",
            "[CV 3/5] END C=0.1, gamma=0.0001, kernel=linear;, score=0.953 total time=   0.0s\n",
            "[CV 4/5] END C=0.1, gamma=0.0001, kernel=linear;, score=0.940 total time=   0.0s\n",
            "[CV 5/5] END C=0.1, gamma=0.0001, kernel=linear;, score=0.940 total time=   0.0s\n",
            "[CV 1/5] END .......C=1, gamma=1, kernel=linear;, score=0.947 total time=   0.0s\n",
            "[CV 2/5] END .......C=1, gamma=1, kernel=linear;, score=0.953 total time=   0.0s\n",
            "[CV 3/5] END .......C=1, gamma=1, kernel=linear;, score=0.953 total time=   0.0s\n",
            "[CV 4/5] END .......C=1, gamma=1, kernel=linear;, score=0.940 total time=   0.0s\n",
            "[CV 5/5] END .......C=1, gamma=1, kernel=linear;, score=0.940 total time=   0.0s\n",
            "[CV 1/5] END .....C=1, gamma=0.1, kernel=linear;, score=0.947 total time=   0.0s\n",
            "[CV 2/5] END .....C=1, gamma=0.1, kernel=linear;, score=0.953 total time=   0.0s\n",
            "[CV 3/5] END .....C=1, gamma=0.1, kernel=linear;, score=0.953 total time=   0.0s\n",
            "[CV 4/5] END .....C=1, gamma=0.1, kernel=linear;, score=0.940 total time=   0.0s\n",
            "[CV 5/5] END .....C=1, gamma=0.1, kernel=linear;, score=0.940 total time=   0.0s\n",
            "[CV 1/5] END ....C=1, gamma=0.01, kernel=linear;, score=0.947 total time=   0.0s\n",
            "[CV 2/5] END ....C=1, gamma=0.01, kernel=linear;, score=0.953 total time=   0.0s\n",
            "[CV 3/5] END ....C=1, gamma=0.01, kernel=linear;, score=0.953 total time=   0.0s\n",
            "[CV 4/5] END ....C=1, gamma=0.01, kernel=linear;, score=0.940 total time=   0.0s\n",
            "[CV 5/5] END ....C=1, gamma=0.01, kernel=linear;, score=0.940 total time=   0.0s\n",
            "[CV 1/5] END ...C=1, gamma=0.001, kernel=linear;, score=0.947 total time=   0.0s\n",
            "[CV 2/5] END ...C=1, gamma=0.001, kernel=linear;, score=0.953 total time=   0.0s\n",
            "[CV 3/5] END ...C=1, gamma=0.001, kernel=linear;, score=0.953 total time=   0.0s\n",
            "[CV 4/5] END ...C=1, gamma=0.001, kernel=linear;, score=0.940 total time=   0.0s\n",
            "[CV 5/5] END ...C=1, gamma=0.001, kernel=linear;, score=0.940 total time=   0.0s\n",
            "[CV 1/5] END ..C=1, gamma=0.0001, kernel=linear;, score=0.947 total time=   0.0s\n",
            "[CV 2/5] END ..C=1, gamma=0.0001, kernel=linear;, score=0.953 total time=   0.0s\n",
            "[CV 3/5] END ..C=1, gamma=0.0001, kernel=linear;, score=0.953 total time=   0.0s\n",
            "[CV 4/5] END ..C=1, gamma=0.0001, kernel=linear;, score=0.940 total time=   0.0s\n",
            "[CV 5/5] END ..C=1, gamma=0.0001, kernel=linear;, score=0.940 total time=   0.0s\n",
            "[CV 1/5] END ......C=10, gamma=1, kernel=linear;, score=0.953 total time=   0.0s\n",
            "[CV 2/5] END ......C=10, gamma=1, kernel=linear;, score=0.953 total time=   0.0s\n",
            "[CV 3/5] END ......C=10, gamma=1, kernel=linear;, score=0.953 total time=   0.0s\n",
            "[CV 4/5] END ......C=10, gamma=1, kernel=linear;, score=0.940 total time=   0.0s\n",
            "[CV 5/5] END ......C=10, gamma=1, kernel=linear;, score=0.940 total time=   0.0s\n",
            "[CV 1/5] END ....C=10, gamma=0.1, kernel=linear;, score=0.953 total time=   0.0s\n",
            "[CV 2/5] END ....C=10, gamma=0.1, kernel=linear;, score=0.953 total time=   0.0s\n",
            "[CV 3/5] END ....C=10, gamma=0.1, kernel=linear;, score=0.953 total time=   0.0s\n",
            "[CV 4/5] END ....C=10, gamma=0.1, kernel=linear;, score=0.940 total time=   0.0s\n",
            "[CV 5/5] END ....C=10, gamma=0.1, kernel=linear;, score=0.940 total time=   0.0s\n",
            "[CV 1/5] END ...C=10, gamma=0.01, kernel=linear;, score=0.953 total time=   0.0s\n",
            "[CV 2/5] END ...C=10, gamma=0.01, kernel=linear;, score=0.953 total time=   0.0s\n",
            "[CV 3/5] END ...C=10, gamma=0.01, kernel=linear;, score=0.953 total time=   0.0s\n",
            "[CV 4/5] END ...C=10, gamma=0.01, kernel=linear;, score=0.940 total time=   0.0s\n",
            "[CV 5/5] END ...C=10, gamma=0.01, kernel=linear;, score=0.940 total time=   0.0s\n",
            "[CV 1/5] END ..C=10, gamma=0.001, kernel=linear;, score=0.953 total time=   0.0s\n",
            "[CV 2/5] END ..C=10, gamma=0.001, kernel=linear;, score=0.953 total time=   0.0s\n",
            "[CV 3/5] END ..C=10, gamma=0.001, kernel=linear;, score=0.953 total time=   0.0s\n",
            "[CV 4/5] END ..C=10, gamma=0.001, kernel=linear;, score=0.940 total time=   0.0s\n",
            "[CV 5/5] END ..C=10, gamma=0.001, kernel=linear;, score=0.940 total time=   0.0s\n",
            "[CV 1/5] END .C=10, gamma=0.0001, kernel=linear;, score=0.953 total time=   0.0s\n",
            "[CV 2/5] END .C=10, gamma=0.0001, kernel=linear;, score=0.953 total time=   0.0s\n",
            "[CV 3/5] END .C=10, gamma=0.0001, kernel=linear;, score=0.953 total time=   0.0s\n",
            "[CV 4/5] END .C=10, gamma=0.0001, kernel=linear;, score=0.940 total time=   0.0s\n",
            "[CV 5/5] END .C=10, gamma=0.0001, kernel=linear;, score=0.940 total time=   0.0s\n",
            "[CV 1/5] END .....C=100, gamma=1, kernel=linear;, score=0.953 total time=   0.0s\n",
            "[CV 2/5] END .....C=100, gamma=1, kernel=linear;, score=0.953 total time=   0.0s\n",
            "[CV 3/5] END .....C=100, gamma=1, kernel=linear;, score=0.953 total time=   0.0s\n",
            "[CV 4/5] END .....C=100, gamma=1, kernel=linear;, score=0.940 total time=   0.0s\n",
            "[CV 5/5] END .....C=100, gamma=1, kernel=linear;, score=0.940 total time=   0.0s\n",
            "[CV 1/5] END ...C=100, gamma=0.1, kernel=linear;, score=0.953 total time=   0.0s\n",
            "[CV 2/5] END ...C=100, gamma=0.1, kernel=linear;, score=0.953 total time=   0.0s\n",
            "[CV 3/5] END ...C=100, gamma=0.1, kernel=linear;, score=0.953 total time=   0.0s\n",
            "[CV 4/5] END ...C=100, gamma=0.1, kernel=linear;, score=0.940 total time=   0.0s\n",
            "[CV 5/5] END ...C=100, gamma=0.1, kernel=linear;, score=0.940 total time=   0.0s\n",
            "[CV 1/5] END ..C=100, gamma=0.01, kernel=linear;, score=0.953 total time=   0.0s\n",
            "[CV 2/5] END ..C=100, gamma=0.01, kernel=linear;, score=0.953 total time=   0.0s\n",
            "[CV 3/5] END ..C=100, gamma=0.01, kernel=linear;, score=0.953 total time=   0.0s\n",
            "[CV 4/5] END ..C=100, gamma=0.01, kernel=linear;, score=0.940 total time=   0.0s\n",
            "[CV 5/5] END ..C=100, gamma=0.01, kernel=linear;, score=0.940 total time=   0.0s\n",
            "[CV 1/5] END .C=100, gamma=0.001, kernel=linear;, score=0.953 total time=   0.0s\n",
            "[CV 2/5] END .C=100, gamma=0.001, kernel=linear;, score=0.953 total time=   0.0s\n",
            "[CV 3/5] END .C=100, gamma=0.001, kernel=linear;, score=0.953 total time=   0.0s\n",
            "[CV 4/5] END .C=100, gamma=0.001, kernel=linear;, score=0.940 total time=   0.0s\n",
            "[CV 5/5] END .C=100, gamma=0.001, kernel=linear;, score=0.940 total time=   0.0s\n",
            "[CV 1/5] END C=100, gamma=0.0001, kernel=linear;, score=0.953 total time=   0.0s\n",
            "[CV 2/5] END C=100, gamma=0.0001, kernel=linear;, score=0.953 total time=   0.0s\n",
            "[CV 3/5] END C=100, gamma=0.0001, kernel=linear;, score=0.953 total time=   0.0s\n",
            "[CV 4/5] END C=100, gamma=0.0001, kernel=linear;, score=0.940 total time=   0.0s\n",
            "[CV 5/5] END C=100, gamma=0.0001, kernel=linear;, score=0.940 total time=   0.0s\n",
            "[CV 1/5] END ....C=1000, gamma=1, kernel=linear;, score=0.953 total time=   0.1s\n",
            "[CV 2/5] END ....C=1000, gamma=1, kernel=linear;, score=0.953 total time=   0.2s\n",
            "[CV 3/5] END ....C=1000, gamma=1, kernel=linear;, score=0.953 total time=   0.2s\n",
            "[CV 4/5] END ....C=1000, gamma=1, kernel=linear;, score=0.940 total time=   0.2s\n",
            "[CV 5/5] END ....C=1000, gamma=1, kernel=linear;, score=0.940 total time=   0.1s\n",
            "[CV 1/5] END ..C=1000, gamma=0.1, kernel=linear;, score=0.953 total time=   0.1s\n",
            "[CV 2/5] END ..C=1000, gamma=0.1, kernel=linear;, score=0.953 total time=   0.2s\n",
            "[CV 3/5] END ..C=1000, gamma=0.1, kernel=linear;, score=0.953 total time=   0.1s\n",
            "[CV 4/5] END ..C=1000, gamma=0.1, kernel=linear;, score=0.940 total time=   0.2s\n",
            "[CV 5/5] END ..C=1000, gamma=0.1, kernel=linear;, score=0.940 total time=   0.1s\n",
            "[CV 1/5] END .C=1000, gamma=0.01, kernel=linear;, score=0.953 total time=   0.1s\n",
            "[CV 2/5] END .C=1000, gamma=0.01, kernel=linear;, score=0.953 total time=   0.2s\n",
            "[CV 3/5] END .C=1000, gamma=0.01, kernel=linear;, score=0.953 total time=   0.2s\n",
            "[CV 4/5] END .C=1000, gamma=0.01, kernel=linear;, score=0.940 total time=   0.2s\n",
            "[CV 5/5] END .C=1000, gamma=0.01, kernel=linear;, score=0.940 total time=   0.1s\n",
            "[CV 1/5] END C=1000, gamma=0.001, kernel=linear;, score=0.953 total time=   0.1s\n",
            "[CV 2/5] END C=1000, gamma=0.001, kernel=linear;, score=0.953 total time=   0.2s\n",
            "[CV 3/5] END C=1000, gamma=0.001, kernel=linear;, score=0.953 total time=   0.2s\n",
            "[CV 4/5] END C=1000, gamma=0.001, kernel=linear;, score=0.940 total time=   0.2s\n",
            "[CV 5/5] END C=1000, gamma=0.001, kernel=linear;, score=0.940 total time=   0.1s\n",
            "[CV 1/5] END C=1000, gamma=0.0001, kernel=linear;, score=0.953 total time=   0.1s\n",
            "[CV 2/5] END C=1000, gamma=0.0001, kernel=linear;, score=0.953 total time=   0.2s\n",
            "[CV 3/5] END C=1000, gamma=0.0001, kernel=linear;, score=0.953 total time=   0.2s\n",
            "[CV 4/5] END C=1000, gamma=0.0001, kernel=linear;, score=0.940 total time=   0.2s\n",
            "[CV 5/5] END C=1000, gamma=0.0001, kernel=linear;, score=0.940 total time=   0.1s\n"
          ]
        },
        {
          "output_type": "execute_result",
          "data": {
            "text/plain": [
              "GridSearchCV(cv=5, estimator=SVC(),\n",
              "             param_grid={'C': [0.1, 1, 10, 100, 1000],\n",
              "                         'gamma': [1, 0.1, 0.01, 0.001, 0.0001],\n",
              "                         'kernel': ['linear']},\n",
              "             verbose=3)"
            ],
            "text/html": [
              "<style>#sk-container-id-8 {color: black;background-color: white;}#sk-container-id-8 pre{padding: 0;}#sk-container-id-8 div.sk-toggleable {background-color: white;}#sk-container-id-8 label.sk-toggleable__label {cursor: pointer;display: block;width: 100%;margin-bottom: 0;padding: 0.3em;box-sizing: border-box;text-align: center;}#sk-container-id-8 label.sk-toggleable__label-arrow:before {content: \"▸\";float: left;margin-right: 0.25em;color: #696969;}#sk-container-id-8 label.sk-toggleable__label-arrow:hover:before {color: black;}#sk-container-id-8 div.sk-estimator:hover label.sk-toggleable__label-arrow:before {color: black;}#sk-container-id-8 div.sk-toggleable__content {max-height: 0;max-width: 0;overflow: hidden;text-align: left;background-color: #f0f8ff;}#sk-container-id-8 div.sk-toggleable__content pre {margin: 0.2em;color: black;border-radius: 0.25em;background-color: #f0f8ff;}#sk-container-id-8 input.sk-toggleable__control:checked~div.sk-toggleable__content {max-height: 200px;max-width: 100%;overflow: auto;}#sk-container-id-8 input.sk-toggleable__control:checked~label.sk-toggleable__label-arrow:before {content: \"▾\";}#sk-container-id-8 div.sk-estimator input.sk-toggleable__control:checked~label.sk-toggleable__label {background-color: #d4ebff;}#sk-container-id-8 div.sk-label input.sk-toggleable__control:checked~label.sk-toggleable__label {background-color: #d4ebff;}#sk-container-id-8 input.sk-hidden--visually {border: 0;clip: rect(1px 1px 1px 1px);clip: rect(1px, 1px, 1px, 1px);height: 1px;margin: -1px;overflow: hidden;padding: 0;position: absolute;width: 1px;}#sk-container-id-8 div.sk-estimator {font-family: monospace;background-color: #f0f8ff;border: 1px dotted black;border-radius: 0.25em;box-sizing: border-box;margin-bottom: 0.5em;}#sk-container-id-8 div.sk-estimator:hover {background-color: #d4ebff;}#sk-container-id-8 div.sk-parallel-item::after {content: \"\";width: 100%;border-bottom: 1px solid gray;flex-grow: 1;}#sk-container-id-8 div.sk-label:hover label.sk-toggleable__label {background-color: #d4ebff;}#sk-container-id-8 div.sk-serial::before {content: \"\";position: absolute;border-left: 1px solid gray;box-sizing: border-box;top: 0;bottom: 0;left: 50%;z-index: 0;}#sk-container-id-8 div.sk-serial {display: flex;flex-direction: column;align-items: center;background-color: white;padding-right: 0.2em;padding-left: 0.2em;position: relative;}#sk-container-id-8 div.sk-item {position: relative;z-index: 1;}#sk-container-id-8 div.sk-parallel {display: flex;align-items: stretch;justify-content: center;background-color: white;position: relative;}#sk-container-id-8 div.sk-item::before, #sk-container-id-8 div.sk-parallel-item::before {content: \"\";position: absolute;border-left: 1px solid gray;box-sizing: border-box;top: 0;bottom: 0;left: 50%;z-index: -1;}#sk-container-id-8 div.sk-parallel-item {display: flex;flex-direction: column;z-index: 1;position: relative;background-color: white;}#sk-container-id-8 div.sk-parallel-item:first-child::after {align-self: flex-end;width: 50%;}#sk-container-id-8 div.sk-parallel-item:last-child::after {align-self: flex-start;width: 50%;}#sk-container-id-8 div.sk-parallel-item:only-child::after {width: 0;}#sk-container-id-8 div.sk-dashed-wrapped {border: 1px dashed gray;margin: 0 0.4em 0.5em 0.4em;box-sizing: border-box;padding-bottom: 0.4em;background-color: white;}#sk-container-id-8 div.sk-label label {font-family: monospace;font-weight: bold;display: inline-block;line-height: 1.2em;}#sk-container-id-8 div.sk-label-container {text-align: center;}#sk-container-id-8 div.sk-container {/* jupyter's `normalize.less` sets `[hidden] { display: none; }` but bootstrap.min.css set `[hidden] { display: none !important; }` so we also need the `!important` here to be able to override the default hidden behavior on the sphinx rendered scikit-learn.org. See: https://github.com/scikit-learn/scikit-learn/issues/21755 */display: inline-block !important;position: relative;}#sk-container-id-8 div.sk-text-repr-fallback {display: none;}</style><div id=\"sk-container-id-8\" class=\"sk-top-container\"><div class=\"sk-text-repr-fallback\"><pre>GridSearchCV(cv=5, estimator=SVC(),\n",
              "             param_grid={&#x27;C&#x27;: [0.1, 1, 10, 100, 1000],\n",
              "                         &#x27;gamma&#x27;: [1, 0.1, 0.01, 0.001, 0.0001],\n",
              "                         &#x27;kernel&#x27;: [&#x27;linear&#x27;]},\n",
              "             verbose=3)</pre><b>In a Jupyter environment, please rerun this cell to show the HTML representation or trust the notebook. <br />On GitHub, the HTML representation is unable to render, please try loading this page with nbviewer.org.</b></div><div class=\"sk-container\" hidden><div class=\"sk-item sk-dashed-wrapped\"><div class=\"sk-label-container\"><div class=\"sk-label sk-toggleable\"><input class=\"sk-toggleable__control sk-hidden--visually\" id=\"sk-estimator-id-12\" type=\"checkbox\" ><label for=\"sk-estimator-id-12\" class=\"sk-toggleable__label sk-toggleable__label-arrow\">GridSearchCV</label><div class=\"sk-toggleable__content\"><pre>GridSearchCV(cv=5, estimator=SVC(),\n",
              "             param_grid={&#x27;C&#x27;: [0.1, 1, 10, 100, 1000],\n",
              "                         &#x27;gamma&#x27;: [1, 0.1, 0.01, 0.001, 0.0001],\n",
              "                         &#x27;kernel&#x27;: [&#x27;linear&#x27;]},\n",
              "             verbose=3)</pre></div></div></div><div class=\"sk-parallel\"><div class=\"sk-parallel-item\"><div class=\"sk-item\"><div class=\"sk-label-container\"><div class=\"sk-label sk-toggleable\"><input class=\"sk-toggleable__control sk-hidden--visually\" id=\"sk-estimator-id-13\" type=\"checkbox\" ><label for=\"sk-estimator-id-13\" class=\"sk-toggleable__label sk-toggleable__label-arrow\">estimator: SVC</label><div class=\"sk-toggleable__content\"><pre>SVC()</pre></div></div></div><div class=\"sk-serial\"><div class=\"sk-item\"><div class=\"sk-estimator sk-toggleable\"><input class=\"sk-toggleable__control sk-hidden--visually\" id=\"sk-estimator-id-14\" type=\"checkbox\" ><label for=\"sk-estimator-id-14\" class=\"sk-toggleable__label sk-toggleable__label-arrow\">SVC</label><div class=\"sk-toggleable__content\"><pre>SVC()</pre></div></div></div></div></div></div></div></div></div></div>"
            ]
          },
          "metadata": {},
          "execution_count": 43
        }
      ]
    },
    {
      "cell_type": "code",
      "source": [
        "cfg.best_estimator_"
      ],
      "metadata": {
        "colab": {
          "base_uri": "https://localhost:8080/",
          "height": 74
        },
        "id": "S2hxvEibW83x",
        "outputId": "49aeabdc-b5a3-4499-af1a-a72640c9ad43"
      },
      "execution_count": null,
      "outputs": [
        {
          "output_type": "execute_result",
          "data": {
            "text/plain": [
              "SVC(C=0.1, gamma=1, kernel='linear')"
            ],
            "text/html": [
              "<style>#sk-container-id-9 {color: black;background-color: white;}#sk-container-id-9 pre{padding: 0;}#sk-container-id-9 div.sk-toggleable {background-color: white;}#sk-container-id-9 label.sk-toggleable__label {cursor: pointer;display: block;width: 100%;margin-bottom: 0;padding: 0.3em;box-sizing: border-box;text-align: center;}#sk-container-id-9 label.sk-toggleable__label-arrow:before {content: \"▸\";float: left;margin-right: 0.25em;color: #696969;}#sk-container-id-9 label.sk-toggleable__label-arrow:hover:before {color: black;}#sk-container-id-9 div.sk-estimator:hover label.sk-toggleable__label-arrow:before {color: black;}#sk-container-id-9 div.sk-toggleable__content {max-height: 0;max-width: 0;overflow: hidden;text-align: left;background-color: #f0f8ff;}#sk-container-id-9 div.sk-toggleable__content pre {margin: 0.2em;color: black;border-radius: 0.25em;background-color: #f0f8ff;}#sk-container-id-9 input.sk-toggleable__control:checked~div.sk-toggleable__content {max-height: 200px;max-width: 100%;overflow: auto;}#sk-container-id-9 input.sk-toggleable__control:checked~label.sk-toggleable__label-arrow:before {content: \"▾\";}#sk-container-id-9 div.sk-estimator input.sk-toggleable__control:checked~label.sk-toggleable__label {background-color: #d4ebff;}#sk-container-id-9 div.sk-label input.sk-toggleable__control:checked~label.sk-toggleable__label {background-color: #d4ebff;}#sk-container-id-9 input.sk-hidden--visually {border: 0;clip: rect(1px 1px 1px 1px);clip: rect(1px, 1px, 1px, 1px);height: 1px;margin: -1px;overflow: hidden;padding: 0;position: absolute;width: 1px;}#sk-container-id-9 div.sk-estimator {font-family: monospace;background-color: #f0f8ff;border: 1px dotted black;border-radius: 0.25em;box-sizing: border-box;margin-bottom: 0.5em;}#sk-container-id-9 div.sk-estimator:hover {background-color: #d4ebff;}#sk-container-id-9 div.sk-parallel-item::after {content: \"\";width: 100%;border-bottom: 1px solid gray;flex-grow: 1;}#sk-container-id-9 div.sk-label:hover label.sk-toggleable__label {background-color: #d4ebff;}#sk-container-id-9 div.sk-serial::before {content: \"\";position: absolute;border-left: 1px solid gray;box-sizing: border-box;top: 0;bottom: 0;left: 50%;z-index: 0;}#sk-container-id-9 div.sk-serial {display: flex;flex-direction: column;align-items: center;background-color: white;padding-right: 0.2em;padding-left: 0.2em;position: relative;}#sk-container-id-9 div.sk-item {position: relative;z-index: 1;}#sk-container-id-9 div.sk-parallel {display: flex;align-items: stretch;justify-content: center;background-color: white;position: relative;}#sk-container-id-9 div.sk-item::before, #sk-container-id-9 div.sk-parallel-item::before {content: \"\";position: absolute;border-left: 1px solid gray;box-sizing: border-box;top: 0;bottom: 0;left: 50%;z-index: -1;}#sk-container-id-9 div.sk-parallel-item {display: flex;flex-direction: column;z-index: 1;position: relative;background-color: white;}#sk-container-id-9 div.sk-parallel-item:first-child::after {align-self: flex-end;width: 50%;}#sk-container-id-9 div.sk-parallel-item:last-child::after {align-self: flex-start;width: 50%;}#sk-container-id-9 div.sk-parallel-item:only-child::after {width: 0;}#sk-container-id-9 div.sk-dashed-wrapped {border: 1px dashed gray;margin: 0 0.4em 0.5em 0.4em;box-sizing: border-box;padding-bottom: 0.4em;background-color: white;}#sk-container-id-9 div.sk-label label {font-family: monospace;font-weight: bold;display: inline-block;line-height: 1.2em;}#sk-container-id-9 div.sk-label-container {text-align: center;}#sk-container-id-9 div.sk-container {/* jupyter's `normalize.less` sets `[hidden] { display: none; }` but bootstrap.min.css set `[hidden] { display: none !important; }` so we also need the `!important` here to be able to override the default hidden behavior on the sphinx rendered scikit-learn.org. See: https://github.com/scikit-learn/scikit-learn/issues/21755 */display: inline-block !important;position: relative;}#sk-container-id-9 div.sk-text-repr-fallback {display: none;}</style><div id=\"sk-container-id-9\" class=\"sk-top-container\"><div class=\"sk-text-repr-fallback\"><pre>SVC(C=0.1, gamma=1, kernel=&#x27;linear&#x27;)</pre><b>In a Jupyter environment, please rerun this cell to show the HTML representation or trust the notebook. <br />On GitHub, the HTML representation is unable to render, please try loading this page with nbviewer.org.</b></div><div class=\"sk-container\" hidden><div class=\"sk-item\"><div class=\"sk-estimator sk-toggleable\"><input class=\"sk-toggleable__control sk-hidden--visually\" id=\"sk-estimator-id-15\" type=\"checkbox\" checked><label for=\"sk-estimator-id-15\" class=\"sk-toggleable__label sk-toggleable__label-arrow\">SVC</label><div class=\"sk-toggleable__content\"><pre>SVC(C=0.1, gamma=1, kernel=&#x27;linear&#x27;)</pre></div></div></div></div></div>"
            ]
          },
          "metadata": {},
          "execution_count": 44
        }
      ]
    },
    {
      "cell_type": "code",
      "source": [
        "cfg.best_score_"
      ],
      "metadata": {
        "colab": {
          "base_uri": "https://localhost:8080/"
        },
        "id": "GiyZQqCVXD-s",
        "outputId": "edbb0fce-1567-423f-d514-527b6f8546fa"
      },
      "execution_count": null,
      "outputs": [
        {
          "output_type": "execute_result",
          "data": {
            "text/plain": [
              "0.9480000000000001"
            ]
          },
          "metadata": {},
          "execution_count": 45
        }
      ]
    },
    {
      "cell_type": "code",
      "source": [
        "cfg.best_params_"
      ],
      "metadata": {
        "colab": {
          "base_uri": "https://localhost:8080/"
        },
        "id": "3DL-DCLNXJBU",
        "outputId": "64689005-3fd5-45ca-ee8c-e3661320e557"
      },
      "execution_count": null,
      "outputs": [
        {
          "output_type": "execute_result",
          "data": {
            "text/plain": [
              "{'C': 0.1, 'gamma': 1, 'kernel': 'linear'}"
            ]
          },
          "metadata": {},
          "execution_count": 46
        }
      ]
    },
    {
      "cell_type": "code",
      "source": [
        "classifier=SVC(C= 0.1, gamma= 1, kernel= 'linear')"
      ],
      "metadata": {
        "id": "nNq4Aj-uXL0K"
      },
      "execution_count": null,
      "outputs": []
    },
    {
      "cell_type": "code",
      "source": [
        "classifier.fit(x_train,y_train)"
      ],
      "metadata": {
        "colab": {
          "base_uri": "https://localhost:8080/",
          "height": 74
        },
        "id": "l4iRILBjXewf",
        "outputId": "4520841a-9110-429d-fb1c-5e97b281700e"
      },
      "execution_count": null,
      "outputs": [
        {
          "output_type": "execute_result",
          "data": {
            "text/plain": [
              "SVC(C=0.1, gamma=1, kernel='linear')"
            ],
            "text/html": [
              "<style>#sk-container-id-10 {color: black;background-color: white;}#sk-container-id-10 pre{padding: 0;}#sk-container-id-10 div.sk-toggleable {background-color: white;}#sk-container-id-10 label.sk-toggleable__label {cursor: pointer;display: block;width: 100%;margin-bottom: 0;padding: 0.3em;box-sizing: border-box;text-align: center;}#sk-container-id-10 label.sk-toggleable__label-arrow:before {content: \"▸\";float: left;margin-right: 0.25em;color: #696969;}#sk-container-id-10 label.sk-toggleable__label-arrow:hover:before {color: black;}#sk-container-id-10 div.sk-estimator:hover label.sk-toggleable__label-arrow:before {color: black;}#sk-container-id-10 div.sk-toggleable__content {max-height: 0;max-width: 0;overflow: hidden;text-align: left;background-color: #f0f8ff;}#sk-container-id-10 div.sk-toggleable__content pre {margin: 0.2em;color: black;border-radius: 0.25em;background-color: #f0f8ff;}#sk-container-id-10 input.sk-toggleable__control:checked~div.sk-toggleable__content {max-height: 200px;max-width: 100%;overflow: auto;}#sk-container-id-10 input.sk-toggleable__control:checked~label.sk-toggleable__label-arrow:before {content: \"▾\";}#sk-container-id-10 div.sk-estimator input.sk-toggleable__control:checked~label.sk-toggleable__label {background-color: #d4ebff;}#sk-container-id-10 div.sk-label input.sk-toggleable__control:checked~label.sk-toggleable__label {background-color: #d4ebff;}#sk-container-id-10 input.sk-hidden--visually {border: 0;clip: rect(1px 1px 1px 1px);clip: rect(1px, 1px, 1px, 1px);height: 1px;margin: -1px;overflow: hidden;padding: 0;position: absolute;width: 1px;}#sk-container-id-10 div.sk-estimator {font-family: monospace;background-color: #f0f8ff;border: 1px dotted black;border-radius: 0.25em;box-sizing: border-box;margin-bottom: 0.5em;}#sk-container-id-10 div.sk-estimator:hover {background-color: #d4ebff;}#sk-container-id-10 div.sk-parallel-item::after {content: \"\";width: 100%;border-bottom: 1px solid gray;flex-grow: 1;}#sk-container-id-10 div.sk-label:hover label.sk-toggleable__label {background-color: #d4ebff;}#sk-container-id-10 div.sk-serial::before {content: \"\";position: absolute;border-left: 1px solid gray;box-sizing: border-box;top: 0;bottom: 0;left: 50%;z-index: 0;}#sk-container-id-10 div.sk-serial {display: flex;flex-direction: column;align-items: center;background-color: white;padding-right: 0.2em;padding-left: 0.2em;position: relative;}#sk-container-id-10 div.sk-item {position: relative;z-index: 1;}#sk-container-id-10 div.sk-parallel {display: flex;align-items: stretch;justify-content: center;background-color: white;position: relative;}#sk-container-id-10 div.sk-item::before, #sk-container-id-10 div.sk-parallel-item::before {content: \"\";position: absolute;border-left: 1px solid gray;box-sizing: border-box;top: 0;bottom: 0;left: 50%;z-index: -1;}#sk-container-id-10 div.sk-parallel-item {display: flex;flex-direction: column;z-index: 1;position: relative;background-color: white;}#sk-container-id-10 div.sk-parallel-item:first-child::after {align-self: flex-end;width: 50%;}#sk-container-id-10 div.sk-parallel-item:last-child::after {align-self: flex-start;width: 50%;}#sk-container-id-10 div.sk-parallel-item:only-child::after {width: 0;}#sk-container-id-10 div.sk-dashed-wrapped {border: 1px dashed gray;margin: 0 0.4em 0.5em 0.4em;box-sizing: border-box;padding-bottom: 0.4em;background-color: white;}#sk-container-id-10 div.sk-label label {font-family: monospace;font-weight: bold;display: inline-block;line-height: 1.2em;}#sk-container-id-10 div.sk-label-container {text-align: center;}#sk-container-id-10 div.sk-container {/* jupyter's `normalize.less` sets `[hidden] { display: none; }` but bootstrap.min.css set `[hidden] { display: none !important; }` so we also need the `!important` here to be able to override the default hidden behavior on the sphinx rendered scikit-learn.org. See: https://github.com/scikit-learn/scikit-learn/issues/21755 */display: inline-block !important;position: relative;}#sk-container-id-10 div.sk-text-repr-fallback {display: none;}</style><div id=\"sk-container-id-10\" class=\"sk-top-container\"><div class=\"sk-text-repr-fallback\"><pre>SVC(C=0.1, gamma=1, kernel=&#x27;linear&#x27;)</pre><b>In a Jupyter environment, please rerun this cell to show the HTML representation or trust the notebook. <br />On GitHub, the HTML representation is unable to render, please try loading this page with nbviewer.org.</b></div><div class=\"sk-container\" hidden><div class=\"sk-item\"><div class=\"sk-estimator sk-toggleable\"><input class=\"sk-toggleable__control sk-hidden--visually\" id=\"sk-estimator-id-16\" type=\"checkbox\" checked><label for=\"sk-estimator-id-16\" class=\"sk-toggleable__label sk-toggleable__label-arrow\">SVC</label><div class=\"sk-toggleable__content\"><pre>SVC(C=0.1, gamma=1, kernel=&#x27;linear&#x27;)</pre></div></div></div></div></div>"
            ]
          },
          "metadata": {},
          "execution_count": 48
        }
      ]
    },
    {
      "cell_type": "code",
      "source": [
        "y_pred=classifier.predict(x_test)"
      ],
      "metadata": {
        "id": "BYtFe9ImXjgg"
      },
      "execution_count": null,
      "outputs": []
    },
    {
      "cell_type": "code",
      "source": [
        "from sklearn.metrics import classification_report,confusion_matrix,accuracy_score\n",
        "print(classification_report(y_test,y_pred))\n",
        "print(confusion_matrix(y_test,y_pred))\n",
        "print(accuracy_score(y_test,y_pred))"
      ],
      "metadata": {
        "colab": {
          "base_uri": "https://localhost:8080/"
        },
        "id": "MIN81pR4XpUd",
        "outputId": "0f9faee7-c11f-4525-8293-e9b0224c97a1"
      },
      "execution_count": null,
      "outputs": [
        {
          "output_type": "stream",
          "name": "stdout",
          "text": [
            "              precision    recall  f1-score   support\n",
            "\n",
            "           0       0.92      0.95      0.94       110\n",
            "           1       0.96      0.94      0.95       140\n",
            "\n",
            "    accuracy                           0.94       250\n",
            "   macro avg       0.94      0.95      0.94       250\n",
            "weighted avg       0.94      0.94      0.94       250\n",
            "\n",
            "[[105   5]\n",
            " [  9 131]]\n",
            "0.944\n"
          ]
        }
      ]
    },
    {
      "cell_type": "code",
      "source": [],
      "metadata": {
        "id": "EtdYXUKcXwx2"
      },
      "execution_count": null,
      "outputs": []
    }
  ]
}