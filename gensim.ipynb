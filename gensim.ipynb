{
  "nbformat": 4,
  "nbformat_minor": 0,
  "metadata": {
    "colab": {
      "provenance": [],
      "authorship_tag": "ABX9TyOUPaJKf3GdosRCLSrtS4nU",
      "include_colab_link": true
    },
    "kernelspec": {
      "name": "python3",
      "display_name": "Python 3"
    },
    "language_info": {
      "name": "python"
    }
  },
  "cells": [
    {
      "cell_type": "markdown",
      "metadata": {
        "id": "view-in-github",
        "colab_type": "text"
      },
      "source": [
        "<a href=\"https://colab.research.google.com/github/ishnt/Data_science_stuff/blob/main/gensim.ipynb\" target=\"_parent\"><img src=\"https://colab.research.google.com/assets/colab-badge.svg\" alt=\"Open In Colab\"/></a>"
      ]
    },
    {
      "cell_type": "code",
      "execution_count": 1,
      "metadata": {
        "id": "SzpMBRrAp6Zq"
      },
      "outputs": [],
      "source": [
        "import gensim.downloader as api"
      ]
    },
    {
      "cell_type": "code",
      "source": [
        "wv=api.load(\"word2vec-google-news-300\")"
      ],
      "metadata": {
        "colab": {
          "base_uri": "https://localhost:8080/"
        },
        "id": "k1f7NCsWqERf",
        "outputId": "037e5b2a-79f1-4fce-d229-50863741268f"
      },
      "execution_count": 2,
      "outputs": [
        {
          "output_type": "stream",
          "name": "stdout",
          "text": [
            "[==================================================] 100.0% 1662.8/1662.8MB downloaded\n"
          ]
        }
      ]
    },
    {
      "cell_type": "code",
      "source": [
        "wv.similarity(\"great\",\"good\")"
      ],
      "metadata": {
        "colab": {
          "base_uri": "https://localhost:8080/"
        },
        "id": "OuC7Oz5Cq180",
        "outputId": "23e4fa86-8304-4b6b-88a0-5f8cf00c40e4"
      },
      "execution_count": 3,
      "outputs": [
        {
          "output_type": "execute_result",
          "data": {
            "text/plain": [
              "0.729151"
            ]
          },
          "metadata": {},
          "execution_count": 3
        }
      ]
    },
    {
      "cell_type": "code",
      "source": [
        "wv.similarity(\"king\",\"prince\")"
      ],
      "metadata": {
        "colab": {
          "base_uri": "https://localhost:8080/"
        },
        "id": "mcWwI7HxtaGb",
        "outputId": "a5bfbc7b-9a2d-4a73-8855-46c7f3f36edc"
      },
      "execution_count": 5,
      "outputs": [
        {
          "output_type": "execute_result",
          "data": {
            "text/plain": [
              "0.61599934"
            ]
          },
          "metadata": {},
          "execution_count": 5
        }
      ]
    },
    {
      "cell_type": "code",
      "source": [
        "wv.most_similar(\"guy\")"
      ],
      "metadata": {
        "colab": {
          "base_uri": "https://localhost:8080/"
        },
        "id": "0-NH9t2OteBK",
        "outputId": "8b396969-d9c4-4c79-dd2f-52b581096bbd"
      },
      "execution_count": 6,
      "outputs": [
        {
          "output_type": "execute_result",
          "data": {
            "text/plain": [
              "[('dude', 0.7975313067436218),\n",
              " ('kid', 0.7245743274688721),\n",
              " ('guys', 0.7120739817619324),\n",
              " ('somebody', 0.7008339762687683),\n",
              " ('fella', 0.6853559017181396),\n",
              " (\"he'sa\", 0.6334838271141052),\n",
              " ('kidder', 0.6259798407554626),\n",
              " ('bloke', 0.6258314847946167),\n",
              " (\"guy'sa\", 0.6248326301574707),\n",
              " (\"Mike'sa\", 0.6232417821884155)]"
            ]
          },
          "metadata": {},
          "execution_count": 6
        }
      ]
    },
    {
      "cell_type": "code",
      "source": [
        "wv.most_similar(\"dog\",topn=3)"
      ],
      "metadata": {
        "colab": {
          "base_uri": "https://localhost:8080/"
        },
        "id": "fuK9ibbJtmrt",
        "outputId": "e0285523-0e2e-4af8-cb60-6ed724e25456"
      },
      "execution_count": 7,
      "outputs": [
        {
          "output_type": "execute_result",
          "data": {
            "text/plain": [
              "[('dogs', 0.8680489659309387),\n",
              " ('puppy', 0.8106428384780884),\n",
              " ('pit_bull', 0.780396044254303)]"
            ]
          },
          "metadata": {},
          "execution_count": 7
        }
      ]
    },
    {
      "cell_type": "code",
      "source": [
        "wv.most_similar(\"good\",topn=3)"
      ],
      "metadata": {
        "colab": {
          "base_uri": "https://localhost:8080/"
        },
        "id": "lYI87keYt1oZ",
        "outputId": "15424455-63e2-4d27-9688-c5beb714fed0"
      },
      "execution_count": 16,
      "outputs": [
        {
          "output_type": "execute_result",
          "data": {
            "text/plain": [
              "[('great', 0.7291510105133057),\n",
              " ('bad', 0.7190051078796387),\n",
              " ('terrific', 0.6889115571975708)]"
            ]
          },
          "metadata": {},
          "execution_count": 16
        }
      ]
    },
    {
      "cell_type": "code",
      "source": [
        "# king-man+woman=queen\n",
        "wv.most_similar(positive=['King','Woman'],negative=['man'])"
      ],
      "metadata": {
        "colab": {
          "base_uri": "https://localhost:8080/"
        },
        "id": "UeK5Yweot4sB",
        "outputId": "43c8edc6-14e5-42f1-995e-69a8135c66e5"
      },
      "execution_count": 18,
      "outputs": [
        {
          "output_type": "execute_result",
          "data": {
            "text/plain": [
              "[('Queen', 0.42921561002731323),\n",
              " ('Allegedly_Assaulted', 0.4198162853717804),\n",
              " ('Draws_Controversy', 0.4182596504688263),\n",
              " ('Oprah_BFF_Gayle', 0.4149194359779358),\n",
              " ('Geoffrey_Rush_Exit', 0.4131823480129242),\n",
              " ('Fictional_Characters', 0.408699095249176),\n",
              " ('Womans', 0.40810656547546387),\n",
              " ('Spelling_Bee_Champ', 0.40798407793045044),\n",
              " ('Duct_Taped', 0.40780559182167053),\n",
              " ('Choked_Up', 0.40717384219169617)]"
            ]
          },
          "metadata": {},
          "execution_count": 18
        }
      ]
    },
    {
      "cell_type": "code",
      "source": [
        "wv.doesnt_match([\"fb\",\"insta\",\"dog\",\"snap\"])"
      ],
      "metadata": {
        "colab": {
          "base_uri": "https://localhost:8080/",
          "height": 35
        },
        "id": "iIv0-2A9u5o6",
        "outputId": "e83ddaa5-d4f7-4eaf-d513-df12908e91e4"
      },
      "execution_count": 20,
      "outputs": [
        {
          "output_type": "execute_result",
          "data": {
            "text/plain": [
              "'dog'"
            ],
            "application/vnd.google.colaboratory.intrinsic+json": {
              "type": "string"
            }
          },
          "metadata": {},
          "execution_count": 20
        }
      ]
    },
    {
      "cell_type": "code",
      "source": [
        "#glove\n",
        "\n",
        "glv=api.load('glove-twitter-25')"
      ],
      "metadata": {
        "colab": {
          "base_uri": "https://localhost:8080/"
        },
        "id": "ud-kI1Mgvykt",
        "outputId": "96c098e2-ca42-4d60-e709-00c0db90f828"
      },
      "execution_count": 24,
      "outputs": [
        {
          "output_type": "stream",
          "name": "stdout",
          "text": [
            "[==================================================] 100.0% 104.8/104.8MB downloaded\n"
          ]
        }
      ]
    },
    {
      "cell_type": "code",
      "source": [
        "glv.similarity(\"great\",\"good\")"
      ],
      "metadata": {
        "colab": {
          "base_uri": "https://localhost:8080/"
        },
        "id": "iVAW-4nlwPTe",
        "outputId": "35eaa55e-2725-4017-c2e9-206928f3d1c7"
      },
      "execution_count": 25,
      "outputs": [
        {
          "output_type": "execute_result",
          "data": {
            "text/plain": [
              "0.9378517"
            ]
          },
          "metadata": {},
          "execution_count": 25
        }
      ]
    },
    {
      "cell_type": "code",
      "source": [
        "glv.doesnt_match([\"fb\",\"insta\",\"dog\",\"snap\"])"
      ],
      "metadata": {
        "colab": {
          "base_uri": "https://localhost:8080/",
          "height": 35
        },
        "id": "VRYJ16LWw9FK",
        "outputId": "54407539-ab9a-4fd8-fa20-08b9da951835"
      },
      "execution_count": 26,
      "outputs": [
        {
          "output_type": "execute_result",
          "data": {
            "text/plain": [
              "'dog'"
            ],
            "application/vnd.google.colaboratory.intrinsic+json": {
              "type": "string"
            }
          },
          "metadata": {},
          "execution_count": 26
        }
      ]
    },
    {
      "cell_type": "code",
      "source": [
        "glv.most_similar(\"good\",topn=3)"
      ],
      "metadata": {
        "colab": {
          "base_uri": "https://localhost:8080/"
        },
        "id": "8p3s3Sv_xRPd",
        "outputId": "9f8d0412-3b56-4281-e96f-4606d2d33195"
      },
      "execution_count": 27,
      "outputs": [
        {
          "output_type": "execute_result",
          "data": {
            "text/plain": [
              "[('too', 0.9648017287254333),\n",
              " ('day', 0.9533665180206299),\n",
              " ('well', 0.9503170847892761)]"
            ]
          },
          "metadata": {},
          "execution_count": 27
        }
      ]
    },
    {
      "cell_type": "code",
      "source": [
        "glv.most_similar(\"guy\")"
      ],
      "metadata": {
        "colab": {
          "base_uri": "https://localhost:8080/"
        },
        "id": "DJOVFOO-xV9P",
        "outputId": "d2121606-e0d6-44c7-99f3-1a2e7e9f610d"
      },
      "execution_count": 28,
      "outputs": [
        {
          "output_type": "execute_result",
          "data": {
            "text/plain": [
              "[('kid', 0.96793133020401),\n",
              " ('called', 0.9605624675750732),\n",
              " ('dude', 0.9453276991844177),\n",
              " ('that', 0.9449912309646606),\n",
              " ('girl', 0.9448168873786926),\n",
              " ('when', 0.9412456154823303),\n",
              " ('dad', 0.940567135810852),\n",
              " ('she', 0.9380539059638977),\n",
              " ('old', 0.937436580657959),\n",
              " ('thought', 0.9345743060112)]"
            ]
          },
          "metadata": {},
          "execution_count": 28
        }
      ]
    },
    {
      "cell_type": "code",
      "source": [],
      "metadata": {
        "id": "BpSte7i1xajP"
      },
      "execution_count": null,
      "outputs": []
    }
  ]
}