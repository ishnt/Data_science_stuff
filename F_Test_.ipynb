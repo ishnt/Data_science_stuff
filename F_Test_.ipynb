{
  "nbformat": 4,
  "nbformat_minor": 0,
  "metadata": {
    "colab": {
      "provenance": [],
      "authorship_tag": "ABX9TyOJ1RdSv7R3J31zShlMCHbT",
      "include_colab_link": true
    },
    "kernelspec": {
      "name": "python3",
      "display_name": "Python 3"
    },
    "language_info": {
      "name": "python"
    }
  },
  "cells": [
    {
      "cell_type": "markdown",
      "metadata": {
        "id": "view-in-github",
        "colab_type": "text"
      },
      "source": [
        "<a href=\"https://colab.research.google.com/github/ishnt/Data_science_stuff/blob/main/F_Test_.ipynb\" target=\"_parent\"><img src=\"https://colab.research.google.com/assets/colab-badge.svg\" alt=\"Open In Colab\"/></a>"
      ]
    },
    {
      "cell_type": "code",
      "execution_count": 5,
      "metadata": {
        "id": "APcTtyzdwNmW"
      },
      "outputs": [],
      "source": [
        "worker1=[19,18,20,31,31,67,31,34,45,31]\n",
        "worker2=[23,42,54,65,76,32,34,43]"
      ]
    },
    {
      "cell_type": "code",
      "source": [
        "#f test stats"
      ],
      "metadata": {
        "id": "XWhOqvjow-4z"
      },
      "execution_count": 6,
      "outputs": []
    },
    {
      "cell_type": "code",
      "source": [
        "import numpy as np\n",
        "f_test=np.var(worker1)/np.var(worker2)"
      ],
      "metadata": {
        "id": "kEs6VznuxR_I"
      },
      "execution_count": 7,
      "outputs": []
    },
    {
      "cell_type": "code",
      "source": [
        "f_test"
      ],
      "metadata": {
        "colab": {
          "base_uri": "https://localhost:8080/"
        },
        "id": "8BgnNSlFysxZ",
        "outputId": "a888cc8f-130d-434a-d2a8-459633431383"
      },
      "execution_count": 8,
      "outputs": [
        {
          "output_type": "execute_result",
          "data": {
            "text/plain": [
              "0.6872311419074982"
            ]
          },
          "metadata": {},
          "execution_count": 8
        }
      ]
    },
    {
      "cell_type": "code",
      "source": [
        "#degree of freedom\n",
        "df1=len(worker1)-1\n",
        "df2=len(worker2)-1\n",
        "significance_value=0.05"
      ],
      "metadata": {
        "id": "vEWGAql0yuE0"
      },
      "execution_count": 12,
      "outputs": []
    },
    {
      "cell_type": "code",
      "source": [
        "import scipy.stats as stat"
      ],
      "metadata": {
        "id": "f5VWY3uNzR86"
      },
      "execution_count": 13,
      "outputs": []
    },
    {
      "cell_type": "code",
      "source": [
        "critical_value=stat.f.ppf(q=1-significance_value,dfn=df1,dfd=df2)"
      ],
      "metadata": {
        "id": "1j-VyjikzSwp"
      },
      "execution_count": 15,
      "outputs": []
    },
    {
      "cell_type": "code",
      "source": [
        "if(critical_value>f_test):\n",
        "  print(\"accept null hypthesis\")\n",
        "else:\n",
        "  print(\" reject null hypothesis\")"
      ],
      "metadata": {
        "colab": {
          "base_uri": "https://localhost:8080/"
        },
        "id": "BJflpG500RYs",
        "outputId": "ba20e910-34e7-4ab3-a6d1-85ba46e15442"
      },
      "execution_count": 17,
      "outputs": [
        {
          "output_type": "stream",
          "name": "stdout",
          "text": [
            "accept null hypthesis\n"
          ]
        }
      ]
    },
    {
      "cell_type": "code",
      "source": [],
      "metadata": {
        "id": "I7KvvwOc0tsi"
      },
      "execution_count": null,
      "outputs": []
    }
  ]
}