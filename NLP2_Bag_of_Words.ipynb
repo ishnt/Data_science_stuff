{
  "nbformat": 4,
  "nbformat_minor": 0,
  "metadata": {
    "colab": {
      "provenance": [],
      "authorship_tag": "ABX9TyP7Scxb4Mlm3i5LZ4FL/3ig",
      "include_colab_link": true
    },
    "kernelspec": {
      "name": "python3",
      "display_name": "Python 3"
    },
    "language_info": {
      "name": "python"
    }
  },
  "cells": [
    {
      "cell_type": "markdown",
      "metadata": {
        "id": "view-in-github",
        "colab_type": "text"
      },
      "source": [
        "<a href=\"https://colab.research.google.com/github/ishnt/Data_science_stuff/blob/main/NLP2_Bag_of_Words.ipynb\" target=\"_parent\"><img src=\"https://colab.research.google.com/assets/colab-badge.svg\" alt=\"Open In Colab\"/></a>"
      ]
    },
    {
      "cell_type": "code",
      "execution_count": 13,
      "metadata": {
        "id": "2KBocMFP9deG"
      },
      "outputs": [],
      "source": [
        "paragraph=\"\"\"The @sun was setting over the horizon, casting a golden hue across the @sky. Birds chirped happily in the trees, and a gentle breeze whispered through the leaves. As the stars began to twinkle in the night sky, a sense of tranquility enveloped the world. Suddenly, a loud crash echoed through the forest, breaking the silence. A group of adventurers had stumbled upon an ancient ruin, hidden deep within the wilderness.321321 They cautiously @@@@@@@@@@@@approached, their %%%%%%%%%%%%%%%h1212321earts pounding with excitement321312 and321321321 fear. What myst321321312eries awaited th321321em inside? Only time would tell.\"\"\""
      ]
    },
    {
      "cell_type": "code",
      "source": [
        "import re"
      ],
      "metadata": {
        "id": "92paOv6ONq-h"
      },
      "execution_count": 14,
      "outputs": []
    },
    {
      "cell_type": "code",
      "source": [
        "import nltk\n",
        "nltk.download('punkt')\n",
        "nltk.download('stopwords')\n",
        "from nltk.stem.porter import PorterStemmer\n",
        "sentences=nltk.sent_tokenize(paragraph)\n",
        "print(sentences)\n",
        "stemmer = PorterStemmer()\n",
        "corpus = []\n",
        "# Data processing\n",
        "for i in range(len(sentences)):\n",
        "  new_sent = re.sub('[^a-zA-Z]', ' ', sentences[i]) # data cleaning step\n",
        "  new_sent = new_sent.lower() # lowering\n",
        "  new_sent = new_sent.split()  # converting to words\n",
        "  # to remove stop words\n",
        "  new_sent = [stemmer.stem(word) for word in new_sent if not word in set(nltk.corpus.stopwords.words('english'))]\n",
        "  new_sent = ' '.join(new_sent)\n",
        "  corpus.append(new_sent)"
      ],
      "metadata": {
        "colab": {
          "base_uri": "https://localhost:8080/"
        },
        "id": "PCSVw4AIOuiD",
        "outputId": "000892a9-4124-4ebc-e585-2d2f1f4de838"
      },
      "execution_count": 15,
      "outputs": [
        {
          "output_type": "stream",
          "name": "stdout",
          "text": [
            "['The @sun was setting over the horizon, casting a golden hue across the @sky.', 'Birds chirped happily in the trees, and a gentle breeze whispered through the leaves.', 'As the stars began to twinkle in the night sky, a sense of tranquility enveloped the world.', 'Suddenly, a loud crash echoed through the forest, breaking the silence.', 'A group of adventurers had stumbled upon an ancient ruin, hidden deep within the wilderness.321321 They cautiously @@@@@@@@@@@@approached, their %%%%%%%%%%%%%%%h1212321earts pounding with excitement321312 and321321321 fear.', 'What myst321321312eries awaited th321321em inside?', 'Only time would tell.']\n"
          ]
        },
        {
          "output_type": "stream",
          "name": "stderr",
          "text": [
            "[nltk_data] Downloading package punkt to /root/nltk_data...\n",
            "[nltk_data]   Package punkt is already up-to-date!\n",
            "[nltk_data] Downloading package stopwords to /root/nltk_data...\n",
            "[nltk_data]   Package stopwords is already up-to-date!\n"
          ]
        }
      ]
    },
    {
      "cell_type": "code",
      "source": [
        "print(corpus)"
      ],
      "metadata": {
        "colab": {
          "base_uri": "https://localhost:8080/"
        },
        "id": "D_1SCorMRMDL",
        "outputId": "09979f0a-7507-42ca-d255-661ce66b683b"
      },
      "execution_count": 16,
      "outputs": [
        {
          "output_type": "stream",
          "name": "stdout",
          "text": [
            "['sun set horizon cast golden hue across sky', 'bird chirp happili tree gentl breez whisper leav', 'star began twinkl night sky sens tranquil envelop world', 'suddenli loud crash echo forest break silenc', 'group adventur stumbl upon ancient ruin hidden deep within wilder cautious approach h eart pound excit fear', 'myst eri await th em insid', 'time would tell']\n"
          ]
        }
      ]
    },
    {
      "cell_type": "code",
      "source": [
        "from sklearn.feature_extraction.text import CountVectorizer\n",
        "cv = CountVectorizer(max_features = 2000, stop_words = 'english', lowercase = True)\n",
        "X = cv.fit_transform(corpus).toarray()\n",
        "X"
      ],
      "metadata": {
        "colab": {
          "base_uri": "https://localhost:8080/"
        },
        "id": "TJ0uMvhERUgh",
        "outputId": "0e15faf0-30f2-4ba6-dbd7-301a93ca6ba0"
      },
      "execution_count": 24,
      "outputs": [
        {
          "output_type": "execute_result",
          "data": {
            "text/plain": [
              "array([[0, 0, 0, 0, 0, 0, 0, 0, 1, 0, 0, 0, 0, 0, 0, 0, 0, 0, 0, 0, 0, 0,\n",
              "        1, 0, 0, 0, 1, 1, 0, 0, 0, 0, 0, 0, 0, 0, 1, 0, 1, 0, 0, 0, 1, 0,\n",
              "        0, 0, 0, 0, 0, 0, 0, 0],\n",
              "       [0, 0, 0, 0, 0, 1, 0, 1, 0, 0, 1, 0, 0, 0, 0, 0, 0, 0, 0, 0, 0, 1,\n",
              "        0, 0, 1, 0, 0, 0, 0, 1, 0, 0, 0, 0, 0, 0, 0, 0, 0, 0, 0, 0, 0, 0,\n",
              "        0, 0, 0, 1, 0, 1, 0, 0],\n",
              "       [0, 0, 0, 0, 1, 0, 0, 0, 0, 0, 0, 0, 0, 0, 0, 0, 1, 0, 0, 0, 0, 0,\n",
              "        0, 0, 0, 0, 0, 0, 0, 0, 0, 0, 1, 0, 0, 1, 0, 0, 1, 1, 0, 0, 0, 0,\n",
              "        0, 0, 1, 0, 1, 0, 0, 1],\n",
              "       [0, 0, 0, 0, 0, 0, 1, 0, 0, 0, 0, 1, 0, 0, 1, 0, 0, 0, 0, 0, 1, 0,\n",
              "        0, 0, 0, 0, 0, 0, 0, 0, 1, 0, 0, 0, 0, 0, 0, 1, 0, 0, 0, 1, 0, 0,\n",
              "        0, 0, 0, 0, 0, 0, 0, 0],\n",
              "       [1, 1, 1, 0, 0, 0, 0, 0, 0, 1, 0, 0, 1, 1, 0, 0, 0, 0, 1, 1, 0, 0,\n",
              "        0, 1, 0, 1, 0, 0, 0, 0, 0, 0, 0, 1, 1, 0, 0, 0, 0, 0, 1, 0, 0, 0,\n",
              "        0, 0, 0, 0, 0, 0, 1, 0],\n",
              "       [0, 0, 0, 1, 0, 0, 0, 0, 0, 0, 0, 0, 0, 0, 0, 1, 0, 1, 0, 0, 0, 0,\n",
              "        0, 0, 0, 0, 0, 0, 1, 0, 0, 1, 0, 0, 0, 0, 0, 0, 0, 0, 0, 0, 0, 0,\n",
              "        1, 0, 0, 0, 0, 0, 0, 0],\n",
              "       [0, 0, 0, 0, 0, 0, 0, 0, 0, 0, 0, 0, 0, 0, 0, 0, 0, 0, 0, 0, 0, 0,\n",
              "        0, 0, 0, 0, 0, 0, 0, 0, 0, 0, 0, 0, 0, 0, 0, 0, 0, 0, 0, 0, 0, 1,\n",
              "        0, 1, 0, 0, 0, 0, 0, 0]])"
            ]
          },
          "metadata": {},
          "execution_count": 24
        }
      ]
    },
    {
      "cell_type": "code",
      "source": [],
      "metadata": {
        "id": "HV2ihKIJS5E4"
      },
      "execution_count": null,
      "outputs": []
    }
  ]
}